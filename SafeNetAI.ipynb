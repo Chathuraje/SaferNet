{
  "nbformat": 4,
  "nbformat_minor": 0,
  "metadata": {
    "colab": {
      "provenance": [],
      "collapsed_sections": [
        "LoGpkIFJAy1i",
        "Wurt3l_I9_H2",
        "9vTkWUi5YkE7",
        "aeTuAOhC4z5b"
      ]
    },
    "kernelspec": {
      "name": "python3",
      "display_name": "Python 3"
    },
    "language_info": {
      "name": "python"
    }
  },
  "cells": [
    {
      "cell_type": "markdown",
      "source": [
        "# Install Libraries"
      ],
      "metadata": {
        "id": "LoGpkIFJAy1i"
      }
    },
    {
      "cell_type": "code",
      "source": [
        "!pip install sklearn"
      ],
      "metadata": {
        "id": "GMWyATFE-Qf4",
        "colab": {
          "base_uri": "https://localhost:8080/"
        },
        "outputId": "9e1c2c50-2aef-48b0-f15b-06db078c3a69"
      },
      "execution_count": null,
      "outputs": [
        {
          "output_type": "stream",
          "name": "stdout",
          "text": [
            "Looking in indexes: https://pypi.org/simple, https://us-python.pkg.dev/colab-wheels/public/simple/\n",
            "Collecting sklearn\n",
            "  Downloading sklearn-0.0.post5.tar.gz (3.7 kB)\n",
            "  \u001b[1;31merror\u001b[0m: \u001b[1msubprocess-exited-with-error\u001b[0m\n",
            "  \n",
            "  \u001b[31m×\u001b[0m \u001b[32mpython setup.py egg_info\u001b[0m did not run successfully.\n",
            "  \u001b[31m│\u001b[0m exit code: \u001b[1;36m1\u001b[0m\n",
            "  \u001b[31m╰─>\u001b[0m See above for output.\n",
            "  \n",
            "  \u001b[1;35mnote\u001b[0m: This error originates from a subprocess, and is likely not a problem with pip.\n",
            "  Preparing metadata (setup.py) ... \u001b[?25l\u001b[?25herror\n",
            "\u001b[1;31merror\u001b[0m: \u001b[1mmetadata-generation-failed\u001b[0m\n",
            "\n",
            "\u001b[31m×\u001b[0m Encountered error while generating package metadata.\n",
            "\u001b[31m╰─>\u001b[0m See above for output.\n",
            "\n",
            "\u001b[1;35mnote\u001b[0m: This is an issue with the package mentioned above, not pip.\n",
            "\u001b[1;36mhint\u001b[0m: See above for details.\n"
          ]
        }
      ]
    },
    {
      "cell_type": "code",
      "source": [
        "!pip install tld"
      ],
      "metadata": {
        "id": "FkO6ToSvgqLd",
        "colab": {
          "base_uri": "https://localhost:8080/"
        },
        "outputId": "338cb94d-6a53-42c5-dca3-9ba91ef1972a"
      },
      "execution_count": null,
      "outputs": [
        {
          "output_type": "stream",
          "name": "stdout",
          "text": [
            "Looking in indexes: https://pypi.org/simple, https://us-python.pkg.dev/colab-wheels/public/simple/\n",
            "Collecting tld\n",
            "  Downloading tld-0.13-py2.py3-none-any.whl (263 kB)\n",
            "\u001b[2K     \u001b[90m━━━━━━━━━━━━━━━━━━━━━━━━━━━━━━━━━━━━━━\u001b[0m \u001b[32m263.8/263.8 kB\u001b[0m \u001b[31m18.2 MB/s\u001b[0m eta \u001b[36m0:00:00\u001b[0m\n",
            "\u001b[?25hInstalling collected packages: tld\n",
            "Successfully installed tld-0.13\n"
          ]
        }
      ]
    },
    {
      "cell_type": "code",
      "source": [
        "!pip install whois"
      ],
      "metadata": {
        "id": "ThRsKuXngsB8",
        "colab": {
          "base_uri": "https://localhost:8080/"
        },
        "outputId": "c7213e17-93fa-4ab1-bfc2-07376441c8c3"
      },
      "execution_count": null,
      "outputs": [
        {
          "output_type": "stream",
          "name": "stdout",
          "text": [
            "Looking in indexes: https://pypi.org/simple, https://us-python.pkg.dev/colab-wheels/public/simple/\n",
            "Collecting whois\n",
            "  Downloading whois-0.9.27.tar.gz (30 kB)\n",
            "  Preparing metadata (setup.py) ... \u001b[?25l\u001b[?25hdone\n",
            "Building wheels for collected packages: whois\n",
            "  Building wheel for whois (setup.py) ... \u001b[?25l\u001b[?25hdone\n",
            "  Created wheel for whois: filename=whois-0.9.27-py3-none-any.whl size=30469 sha256=83d605719f90cbac76a2e2ed4dae0aaad4a5c1d0a038318c2f8d531e0876b357\n",
            "  Stored in directory: /root/.cache/pip/wheels/71/17/36/d62eb5bcc416650499a7259d584c11e4a778de5ce0e72a8dbf\n",
            "Successfully built whois\n",
            "Installing collected packages: whois\n",
            "Successfully installed whois-0.9.27\n"
          ]
        }
      ]
    },
    {
      "cell_type": "code",
      "source": [
        "!pip install geocoder"
      ],
      "metadata": {
        "id": "p1YF89aHmhra",
        "colab": {
          "base_uri": "https://localhost:8080/"
        },
        "outputId": "e12bf051-1c83-471a-fcd9-b5be7e8c8bc6"
      },
      "execution_count": null,
      "outputs": [
        {
          "output_type": "stream",
          "name": "stdout",
          "text": [
            "Looking in indexes: https://pypi.org/simple, https://us-python.pkg.dev/colab-wheels/public/simple/\n",
            "Collecting geocoder\n",
            "  Downloading geocoder-1.38.1-py2.py3-none-any.whl (98 kB)\n",
            "\u001b[2K     \u001b[90m━━━━━━━━━━━━━━━━━━━━━━━━━━━━━━━━━━━━━━━━\u001b[0m \u001b[32m98.6/98.6 kB\u001b[0m \u001b[31m8.0 MB/s\u001b[0m eta \u001b[36m0:00:00\u001b[0m\n",
            "\u001b[?25hRequirement already satisfied: click in /usr/local/lib/python3.10/dist-packages (from geocoder) (8.1.3)\n",
            "Requirement already satisfied: future in /usr/local/lib/python3.10/dist-packages (from geocoder) (0.18.3)\n",
            "Collecting ratelim (from geocoder)\n",
            "  Downloading ratelim-0.1.6-py2.py3-none-any.whl (4.0 kB)\n",
            "Requirement already satisfied: requests in /usr/local/lib/python3.10/dist-packages (from geocoder) (2.27.1)\n",
            "Requirement already satisfied: six in /usr/local/lib/python3.10/dist-packages (from geocoder) (1.16.0)\n",
            "Requirement already satisfied: decorator in /usr/local/lib/python3.10/dist-packages (from ratelim->geocoder) (4.4.2)\n",
            "Requirement already satisfied: urllib3<1.27,>=1.21.1 in /usr/local/lib/python3.10/dist-packages (from requests->geocoder) (1.26.15)\n",
            "Requirement already satisfied: certifi>=2017.4.17 in /usr/local/lib/python3.10/dist-packages (from requests->geocoder) (2022.12.7)\n",
            "Requirement already satisfied: charset-normalizer~=2.0.0 in /usr/local/lib/python3.10/dist-packages (from requests->geocoder) (2.0.12)\n",
            "Requirement already satisfied: idna<4,>=2.5 in /usr/local/lib/python3.10/dist-packages (from requests->geocoder) (3.4)\n",
            "Installing collected packages: ratelim, geocoder\n",
            "Successfully installed geocoder-1.38.1 ratelim-0.1.6\n"
          ]
        }
      ]
    },
    {
      "cell_type": "markdown",
      "source": [
        "# Load and Combined Original Data\n",
        "---\n",
        "-- Generated --\n",
        "\n"
      ],
      "metadata": {
        "id": "Wurt3l_I9_H2"
      }
    },
    {
      "cell_type": "code",
      "source": [
        "import numpy as np\n",
        "import pandas as pd"
      ],
      "metadata": {
        "id": "fjtAWW3FSokp"
      },
      "execution_count": null,
      "outputs": []
    },
    {
      "cell_type": "code",
      "source": [
        "# https://data.mendeley.com/datasets/gdx3pkwp47/2\n",
        "\n",
        "data1 = pd.read_csv('/content/drive/MyDrive/Colab Notebooks/SafeNetAI/Dataset/raw_data/Original_Data/Webpages_Classification_test_data.csv', index_col=[0])"
      ],
      "metadata": {
        "id": "Fp8Z02RD8KLu"
      },
      "execution_count": null,
      "outputs": []
    },
    {
      "cell_type": "code",
      "source": [
        "data2 = pd.read_csv('/content/drive/MyDrive/Colab Notebooks/SafeNetAI/Dataset/raw_data/Original_Data/Webpages_Classification_train_data.csv', index_col=[0])"
      ],
      "metadata": {
        "id": "pTlqfvZ11WWq"
      },
      "execution_count": null,
      "outputs": []
    },
    {
      "cell_type": "code",
      "source": [
        "frames = [data1, data2]\n",
        "data0 = pd.concat(frames)"
      ],
      "metadata": {
        "id": "31Mj33AG4NJ-"
      },
      "execution_count": null,
      "outputs": []
    },
    {
      "cell_type": "code",
      "source": [
        "data0.to_csv('/content/drive/MyDrive/Colab Notebooks/SafeNetAI/Dataset/raw_data/complete_data.csv', index=False)"
      ],
      "metadata": {
        "id": "X__vW88iS0PT"
      },
      "execution_count": null,
      "outputs": []
    },
    {
      "cell_type": "markdown",
      "source": [
        "# Dataset Balancing\n",
        "---\n",
        "-- Generated --\n"
      ],
      "metadata": {
        "id": "9vTkWUi5YkE7"
      }
    },
    {
      "cell_type": "code",
      "source": [
        "import numpy as np\n",
        "import pandas as pd"
      ],
      "metadata": {
        "id": "OhBFgtVE5qFz"
      },
      "execution_count": null,
      "outputs": []
    },
    {
      "cell_type": "code",
      "source": [
        "data_balancing = pd.read_csv('/content/drive/MyDrive/Colab Notebooks/SafeNetAI/Dataset/raw_data/complete_data.csv')"
      ],
      "metadata": {
        "id": "cDX8R3EdadTW"
      },
      "execution_count": null,
      "outputs": []
    },
    {
      "cell_type": "code",
      "source": [
        "filtered_data_bad = data_balancing[data_balancing['label'] == \"bad\"]\n",
        "data_count = filtered_data_bad.shape[0]"
      ],
      "metadata": {
        "id": "hZSxcrLWTcNL"
      },
      "execution_count": null,
      "outputs": []
    },
    {
      "cell_type": "code",
      "source": [
        "data_count"
      ],
      "metadata": {
        "colab": {
          "base_uri": "https://localhost:8080/"
        },
        "id": "mD-A00Q04m7M",
        "outputId": "2979f57e-2951-4ac3-937a-f96f26d3e447"
      },
      "execution_count": null,
      "outputs": [
        {
          "output_type": "execute_result",
          "data": {
            "text/plain": [
              "35315"
            ]
          },
          "metadata": {},
          "execution_count": 7
        }
      ]
    },
    {
      "cell_type": "code",
      "source": [
        "filtered_data_good = data_balancing[data_balancing['label'] == \"good\"]\n",
        "filtered_data_good.shape[0]"
      ],
      "metadata": {
        "id": "NxKbcIACTqF5",
        "colab": {
          "base_uri": "https://localhost:8080/"
        },
        "outputId": "616d2995-53e8-4aa6-ac79-d823cef272d1"
      },
      "execution_count": null,
      "outputs": [
        {
          "output_type": "execute_result",
          "data": {
            "text/plain": [
              "1526619"
            ]
          },
          "metadata": {},
          "execution_count": 8
        }
      ]
    },
    {
      "cell_type": "code",
      "source": [
        "selected_good = filtered_data_good[:data_count]"
      ],
      "metadata": {
        "id": "HrZwfIQyT1rK"
      },
      "execution_count": null,
      "outputs": []
    },
    {
      "cell_type": "code",
      "source": [
        "frames = [filtered_data_bad, selected_good]\n",
        "balanced_data = pd.concat(frames)"
      ],
      "metadata": {
        "id": "1mgc6zX6T6CV"
      },
      "execution_count": null,
      "outputs": []
    },
    {
      "cell_type": "code",
      "source": [
        "import pandas as pd\n",
        "from sklearn.utils import shuffle\n",
        "import seaborn as sns\n",
        "import matplotlib.pyplot as plt"
      ],
      "metadata": {
        "id": "jXVJ9jqEUAVS"
      },
      "execution_count": null,
      "outputs": []
    },
    {
      "cell_type": "code",
      "source": [
        "# Reset the index\n",
        "balanced_data.reset_index(drop=True, inplace=True)\n",
        "balanced_data = shuffle(balanced_data)"
      ],
      "metadata": {
        "id": "3wheN6xSUAyG"
      },
      "execution_count": null,
      "outputs": []
    },
    {
      "cell_type": "code",
      "source": [
        "balanced_data.head()"
      ],
      "metadata": {
        "id": "_Omzo-uhUFay",
        "colab": {
          "base_uri": "https://localhost:8080/",
          "height": 250
        },
        "outputId": "2855a583-4f00-4b19-a0b9-4de70f3c101e"
      },
      "execution_count": null,
      "outputs": [
        {
          "output_type": "execute_result",
          "data": {
            "text/plain": [
              "                                           url  url_len           ip_add  \\\n",
              "54214                    http://www.baycu.com/       21     25.186.78.91   \n",
              "28168              http://www.massagefree.com/       27   198.111.100.80   \n",
              "9293                http://www.bucksbrand.com/       26    149.52.223.47   \n",
              "8312            http://www.sheridantaylor.com/       30  215.130.150.116   \n",
              "18796  http://www.eze-porn.com/pussy-pounding/       39     12.51.233.27   \n",
              "\n",
              "              geo_loc  tld      who_is https  js_len  js_obf_len  \\\n",
              "54214  United Kingdom  com    complete    no    77.0       0.000   \n",
              "28168   United States  com  incomplete    no   369.0     214.020   \n",
              "9293    United States  com  incomplete    no   592.2     497.448   \n",
              "8312    United States  com  incomplete    no   467.1     205.524   \n",
              "18796   United States  com  incomplete    no     0.0       0.000   \n",
              "\n",
              "                                                 content label  \n",
              "54214  Energy other natural bodies of water swarmed. ...  good  \n",
              "28168  whorehouse wanker nigger horn ribbed hooker fu...   bad  \n",
              "9293   niggles pornflick sooty bitchy japcrap vomit s...   bad  \n",
              "8312   kunt goddamnes pussylicker bumfuck bast assklo...   bad  \n",
              "18796  flydie assmunch fucks analannie ejaculation ch...   bad  "
            ],
            "text/html": [
              "\n",
              "  <div id=\"df-bc95b08d-4dae-4f3b-9560-cdcc6021a37b\">\n",
              "    <div class=\"colab-df-container\">\n",
              "      <div>\n",
              "<style scoped>\n",
              "    .dataframe tbody tr th:only-of-type {\n",
              "        vertical-align: middle;\n",
              "    }\n",
              "\n",
              "    .dataframe tbody tr th {\n",
              "        vertical-align: top;\n",
              "    }\n",
              "\n",
              "    .dataframe thead th {\n",
              "        text-align: right;\n",
              "    }\n",
              "</style>\n",
              "<table border=\"1\" class=\"dataframe\">\n",
              "  <thead>\n",
              "    <tr style=\"text-align: right;\">\n",
              "      <th></th>\n",
              "      <th>url</th>\n",
              "      <th>url_len</th>\n",
              "      <th>ip_add</th>\n",
              "      <th>geo_loc</th>\n",
              "      <th>tld</th>\n",
              "      <th>who_is</th>\n",
              "      <th>https</th>\n",
              "      <th>js_len</th>\n",
              "      <th>js_obf_len</th>\n",
              "      <th>content</th>\n",
              "      <th>label</th>\n",
              "    </tr>\n",
              "  </thead>\n",
              "  <tbody>\n",
              "    <tr>\n",
              "      <th>54214</th>\n",
              "      <td>http://www.baycu.com/</td>\n",
              "      <td>21</td>\n",
              "      <td>25.186.78.91</td>\n",
              "      <td>United Kingdom</td>\n",
              "      <td>com</td>\n",
              "      <td>complete</td>\n",
              "      <td>no</td>\n",
              "      <td>77.0</td>\n",
              "      <td>0.000</td>\n",
              "      <td>Energy other natural bodies of water swarmed. ...</td>\n",
              "      <td>good</td>\n",
              "    </tr>\n",
              "    <tr>\n",
              "      <th>28168</th>\n",
              "      <td>http://www.massagefree.com/</td>\n",
              "      <td>27</td>\n",
              "      <td>198.111.100.80</td>\n",
              "      <td>United States</td>\n",
              "      <td>com</td>\n",
              "      <td>incomplete</td>\n",
              "      <td>no</td>\n",
              "      <td>369.0</td>\n",
              "      <td>214.020</td>\n",
              "      <td>whorehouse wanker nigger horn ribbed hooker fu...</td>\n",
              "      <td>bad</td>\n",
              "    </tr>\n",
              "    <tr>\n",
              "      <th>9293</th>\n",
              "      <td>http://www.bucksbrand.com/</td>\n",
              "      <td>26</td>\n",
              "      <td>149.52.223.47</td>\n",
              "      <td>United States</td>\n",
              "      <td>com</td>\n",
              "      <td>incomplete</td>\n",
              "      <td>no</td>\n",
              "      <td>592.2</td>\n",
              "      <td>497.448</td>\n",
              "      <td>niggles pornflick sooty bitchy japcrap vomit s...</td>\n",
              "      <td>bad</td>\n",
              "    </tr>\n",
              "    <tr>\n",
              "      <th>8312</th>\n",
              "      <td>http://www.sheridantaylor.com/</td>\n",
              "      <td>30</td>\n",
              "      <td>215.130.150.116</td>\n",
              "      <td>United States</td>\n",
              "      <td>com</td>\n",
              "      <td>incomplete</td>\n",
              "      <td>no</td>\n",
              "      <td>467.1</td>\n",
              "      <td>205.524</td>\n",
              "      <td>kunt goddamnes pussylicker bumfuck bast assklo...</td>\n",
              "      <td>bad</td>\n",
              "    </tr>\n",
              "    <tr>\n",
              "      <th>18796</th>\n",
              "      <td>http://www.eze-porn.com/pussy-pounding/</td>\n",
              "      <td>39</td>\n",
              "      <td>12.51.233.27</td>\n",
              "      <td>United States</td>\n",
              "      <td>com</td>\n",
              "      <td>incomplete</td>\n",
              "      <td>no</td>\n",
              "      <td>0.0</td>\n",
              "      <td>0.000</td>\n",
              "      <td>flydie assmunch fucks analannie ejaculation ch...</td>\n",
              "      <td>bad</td>\n",
              "    </tr>\n",
              "  </tbody>\n",
              "</table>\n",
              "</div>\n",
              "      <button class=\"colab-df-convert\" onclick=\"convertToInteractive('df-bc95b08d-4dae-4f3b-9560-cdcc6021a37b')\"\n",
              "              title=\"Convert this dataframe to an interactive table.\"\n",
              "              style=\"display:none;\">\n",
              "        \n",
              "  <svg xmlns=\"http://www.w3.org/2000/svg\" height=\"24px\"viewBox=\"0 0 24 24\"\n",
              "       width=\"24px\">\n",
              "    <path d=\"M0 0h24v24H0V0z\" fill=\"none\"/>\n",
              "    <path d=\"M18.56 5.44l.94 2.06.94-2.06 2.06-.94-2.06-.94-.94-2.06-.94 2.06-2.06.94zm-11 1L8.5 8.5l.94-2.06 2.06-.94-2.06-.94L8.5 2.5l-.94 2.06-2.06.94zm10 10l.94 2.06.94-2.06 2.06-.94-2.06-.94-.94-2.06-.94 2.06-2.06.94z\"/><path d=\"M17.41 7.96l-1.37-1.37c-.4-.4-.92-.59-1.43-.59-.52 0-1.04.2-1.43.59L10.3 9.45l-7.72 7.72c-.78.78-.78 2.05 0 2.83L4 21.41c.39.39.9.59 1.41.59.51 0 1.02-.2 1.41-.59l7.78-7.78 2.81-2.81c.8-.78.8-2.07 0-2.86zM5.41 20L4 18.59l7.72-7.72 1.47 1.35L5.41 20z\"/>\n",
              "  </svg>\n",
              "      </button>\n",
              "      \n",
              "  <style>\n",
              "    .colab-df-container {\n",
              "      display:flex;\n",
              "      flex-wrap:wrap;\n",
              "      gap: 12px;\n",
              "    }\n",
              "\n",
              "    .colab-df-convert {\n",
              "      background-color: #E8F0FE;\n",
              "      border: none;\n",
              "      border-radius: 50%;\n",
              "      cursor: pointer;\n",
              "      display: none;\n",
              "      fill: #1967D2;\n",
              "      height: 32px;\n",
              "      padding: 0 0 0 0;\n",
              "      width: 32px;\n",
              "    }\n",
              "\n",
              "    .colab-df-convert:hover {\n",
              "      background-color: #E2EBFA;\n",
              "      box-shadow: 0px 1px 2px rgba(60, 64, 67, 0.3), 0px 1px 3px 1px rgba(60, 64, 67, 0.15);\n",
              "      fill: #174EA6;\n",
              "    }\n",
              "\n",
              "    [theme=dark] .colab-df-convert {\n",
              "      background-color: #3B4455;\n",
              "      fill: #D2E3FC;\n",
              "    }\n",
              "\n",
              "    [theme=dark] .colab-df-convert:hover {\n",
              "      background-color: #434B5C;\n",
              "      box-shadow: 0px 1px 3px 1px rgba(0, 0, 0, 0.15);\n",
              "      filter: drop-shadow(0px 1px 2px rgba(0, 0, 0, 0.3));\n",
              "      fill: #FFFFFF;\n",
              "    }\n",
              "  </style>\n",
              "\n",
              "      <script>\n",
              "        const buttonEl =\n",
              "          document.querySelector('#df-bc95b08d-4dae-4f3b-9560-cdcc6021a37b button.colab-df-convert');\n",
              "        buttonEl.style.display =\n",
              "          google.colab.kernel.accessAllowed ? 'block' : 'none';\n",
              "\n",
              "        async function convertToInteractive(key) {\n",
              "          const element = document.querySelector('#df-bc95b08d-4dae-4f3b-9560-cdcc6021a37b');\n",
              "          const dataTable =\n",
              "            await google.colab.kernel.invokeFunction('convertToInteractive',\n",
              "                                                     [key], {});\n",
              "          if (!dataTable) return;\n",
              "\n",
              "          const docLinkHtml = 'Like what you see? Visit the ' +\n",
              "            '<a target=\"_blank\" href=https://colab.research.google.com/notebooks/data_table.ipynb>data table notebook</a>'\n",
              "            + ' to learn more about interactive tables.';\n",
              "          element.innerHTML = '';\n",
              "          dataTable['output_type'] = 'display_data';\n",
              "          await google.colab.output.renderOutput(dataTable, element);\n",
              "          const docLink = document.createElement('div');\n",
              "          docLink.innerHTML = docLinkHtml;\n",
              "          element.appendChild(docLink);\n",
              "        }\n",
              "      </script>\n",
              "    </div>\n",
              "  </div>\n",
              "  "
            ]
          },
          "metadata": {},
          "execution_count": 13
        }
      ]
    },
    {
      "cell_type": "code",
      "source": [
        "balanced_data.isnull().sum()"
      ],
      "metadata": {
        "id": "pHcqyISvUZzt"
      },
      "execution_count": null,
      "outputs": []
    },
    {
      "cell_type": "code",
      "source": [
        "count = balanced_data.label.value_counts()"
      ],
      "metadata": {
        "id": "zxkPbZpQUpkp"
      },
      "execution_count": null,
      "outputs": []
    },
    {
      "cell_type": "code",
      "source": [
        "count"
      ],
      "metadata": {
        "colab": {
          "base_uri": "https://localhost:8080/"
        },
        "id": "ilEgvB2ZU0G3",
        "outputId": "17694ff9-9647-470b-f5a4-3dc291031c0e"
      },
      "execution_count": null,
      "outputs": [
        {
          "output_type": "execute_result",
          "data": {
            "text/plain": [
              "good    35315\n",
              "bad     35315\n",
              "Name: label, dtype: int64"
            ]
          },
          "metadata": {},
          "execution_count": 16
        }
      ]
    },
    {
      "cell_type": "code",
      "source": [
        "sns.barplot(x=count.index, y=count)\n",
        "plt.xlabel('Types')\n",
        "plt.ylabel('Count');"
      ],
      "metadata": {
        "colab": {
          "base_uri": "https://localhost:8080/",
          "height": 449
        },
        "id": "XNhtSq_8Uu16",
        "outputId": "51bcd45d-1dc6-47eb-e3e6-e54c83cb95be"
      },
      "execution_count": null,
      "outputs": [
        {
          "output_type": "display_data",
          "data": {
            "text/plain": [
              "<Figure size 640x480 with 1 Axes>"
            ],
            "image/png": "[encoded data removed]"
          },
          "metadata": {}
        }
      ]
    },
    {
      "cell_type": "code",
      "source": [
        "balanced_data.to_csv('/content/drive/MyDrive/Colab Notebooks/SafeNetAI/Dataset/raw_data/balanced_data.csv', index=False)"
      ],
      "metadata": {
        "id": "-aO0ij9u5Y3d"
      },
      "execution_count": null,
      "outputs": []
    },
    {
      "cell_type": "markdown",
      "source": [
        "# Data Clearing\n",
        "---\n",
        "-- Generated --\n",
        "\n"
      ],
      "metadata": {
        "id": "aeTuAOhC4z5b"
      }
    },
    {
      "cell_type": "code",
      "source": [
        "import numpy as np\n",
        "import pandas as pd\n",
        "from sklearn.preprocessing import LabelEncoder"
      ],
      "metadata": {
        "id": "YrZ6eHB-YWUG"
      },
      "execution_count": null,
      "outputs": []
    },
    {
      "cell_type": "code",
      "source": [
        "load_data = pd.read_csv('/content/drive/MyDrive/Colab Notebooks/SafeNetAI/Dataset/raw_data/balanced_data.csv')"
      ],
      "metadata": {
        "id": "HCXHahU56cGs"
      },
      "execution_count": null,
      "outputs": []
    },
    {
      "cell_type": "code",
      "source": [
        "rem = {\"label\": {\"good\": 0, \"bad\": 1}}\n",
        "load_data['label'] = load_data['label']\n",
        "load_data = load_data.replace(rem)"
      ],
      "metadata": {
        "id": "9zdSLtAmU9R3"
      },
      "execution_count": null,
      "outputs": []
    },
    {
      "cell_type": "code",
      "source": [
        "rem = {\"who_is\": {\"incomplete\": 0, \"complete\": 1}}\n",
        "load_data['who_is'] = load_data['who_is']\n",
        "load_data = load_data.replace(rem)"
      ],
      "metadata": {
        "id": "UmpgsoinU_Ff"
      },
      "execution_count": null,
      "outputs": []
    },
    {
      "cell_type": "code",
      "source": [
        "rem = {\"https\": {\"no\": 0, \"yes\": 1}}\n",
        "load_data['https'] = load_data['https']\n",
        "load_data = load_data.replace(rem)"
      ],
      "metadata": {
        "id": "pV1EXtjKVA7O"
      },
      "execution_count": null,
      "outputs": []
    },
    {
      "cell_type": "code",
      "source": [
        "# Convert IP address to numerical representation\n",
        "load_data['ip_add'] = load_data['ip_add'].apply(lambda x: sum(int(digit) * (256 ** i) for i, digit in enumerate(x.split('.')[::-1])))"
      ],
      "metadata": {
        "id": "gXWtffE-YDie"
      },
      "execution_count": null,
      "outputs": []
    },
    {
      "cell_type": "code",
      "source": [
        "# Encode the target variable\n",
        "label_encoder = LabelEncoder()\n",
        "load_data['geo_loc'] = label_encoder.fit_transform(load_data['geo_loc'])"
      ],
      "metadata": {
        "id": "WRrHQnI6YQ1j"
      },
      "execution_count": null,
      "outputs": []
    },
    {
      "cell_type": "code",
      "source": [
        "# Encode the target variable\n",
        "load_data['tld'] = label_encoder.fit_transform(load_data['tld'])"
      ],
      "metadata": {
        "id": "aBtRdYGnYRWj"
      },
      "execution_count": null,
      "outputs": []
    },
    {
      "cell_type": "code",
      "source": [
        "load_data"
      ],
      "metadata": {
        "id": "zT-L_TV7YGGL"
      },
      "execution_count": null,
      "outputs": []
    },
    {
      "cell_type": "code",
      "source": [
        "load_data.to_csv('/content/drive/MyDrive/Colab Notebooks/SafeNetAI/Dataset/dataset.csv', index=False)"
      ],
      "metadata": {
        "id": "e3LvAs81GMbp"
      },
      "execution_count": null,
      "outputs": []
    },
    {
      "cell_type": "markdown",
      "source": [
        "# Feature Engineering"
      ],
      "metadata": {
        "id": "A38-9uiC-Vgw"
      }
    },
    {
      "cell_type": "code",
      "source": [
        "import numpy as np\n",
        "import pandas as pd\n",
        "from matplotlib import pyplot as plt\n",
        "import seaborn as sns"
      ],
      "metadata": {
        "id": "No4MWy43svE_"
      },
      "execution_count": null,
      "outputs": []
    },
    {
      "cell_type": "code",
      "source": [
        "data = pd.read_csv('/content/drive/MyDrive/Colab Notebooks/SafeNetAI/Dataset/dataset.csv')"
      ],
      "metadata": {
        "id": "FIriG08xfWnc"
      },
      "execution_count": null,
      "outputs": []
    },
    {
      "cell_type": "code",
      "source": [
        "fields = ['url', 'ip_add', 'geo_loc', 'tld', 'who_is', 'https', 'label']"
      ],
      "metadata": {
        "id": "C7_Y6oFDS4n-"
      },
      "execution_count": null,
      "outputs": []
    },
    {
      "cell_type": "code",
      "source": [
        "data = data.loc[:, fields]"
      ],
      "metadata": {
        "id": "qeZPWZpdWH4F"
      },
      "execution_count": null,
      "outputs": []
    },
    {
      "cell_type": "code",
      "source": [
        "data.head()"
      ],
      "metadata": {
        "id": "9UGGvs3Gfa3u",
        "colab": {
          "base_uri": "https://localhost:8080/",
          "height": 206
        },
        "outputId": "554cb092-3555-49c6-db66-5dc32f6802eb"
      },
      "execution_count": null,
      "outputs": [
        {
          "output_type": "execute_result",
          "data": {
            "text/plain": [
              "                                       url      ip_add  geo_loc  tld  who_is  \\\n",
              "0                    http://www.baycu.com/   431640155      179   72       1   \n",
              "1              http://www.massagefree.com/  3329188944      180   72       0   \n",
              "2               http://www.bucksbrand.com/  2503270191      180   72       0   \n",
              "3           http://www.sheridantaylor.com/  3615659636      180   72       0   \n",
              "4  http://www.eze-porn.com/pussy-pounding/   204728603      180   72       0   \n",
              "\n",
              "   https  label  \n",
              "0      0      0  \n",
              "1      0      1  \n",
              "2      0      1  \n",
              "3      0      1  \n",
              "4      0      1  "
            ],
            "text/html": [
              "\n",
              "  <div id=\"df-da3ae3d1-3415-48b7-9f08-6450fd098916\">\n",
              "    <div class=\"colab-df-container\">\n",
              "      <div>\n",
              "<style scoped>\n",
              "    .dataframe tbody tr th:only-of-type {\n",
              "        vertical-align: middle;\n",
              "    }\n",
              "\n",
              "    .dataframe tbody tr th {\n",
              "        vertical-align: top;\n",
              "    }\n",
              "\n",
              "    .dataframe thead th {\n",
              "        text-align: right;\n",
              "    }\n",
              "</style>\n",
              "<table border=\"1\" class=\"dataframe\">\n",
              "  <thead>\n",
              "    <tr style=\"text-align: right;\">\n",
              "      <th></th>\n",
              "      <th>url</th>\n",
              "      <th>ip_add</th>\n",
              "      <th>geo_loc</th>\n",
              "      <th>tld</th>\n",
              "      <th>who_is</th>\n",
              "      <th>https</th>\n",
              "      <th>label</th>\n",
              "    </tr>\n",
              "  </thead>\n",
              "  <tbody>\n",
              "    <tr>\n",
              "      <th>0</th>\n",
              "      <td>http://www.baycu.com/</td>\n",
              "      <td>431640155</td>\n",
              "      <td>179</td>\n",
              "      <td>72</td>\n",
              "      <td>1</td>\n",
              "      <td>0</td>\n",
              "      <td>0</td>\n",
              "    </tr>\n",
              "    <tr>\n",
              "      <th>1</th>\n",
              "      <td>http://www.massagefree.com/</td>\n",
              "      <td>3329188944</td>\n",
              "      <td>180</td>\n",
              "      <td>72</td>\n",
              "      <td>0</td>\n",
              "      <td>0</td>\n",
              "      <td>1</td>\n",
              "    </tr>\n",
              "    <tr>\n",
              "      <th>2</th>\n",
              "      <td>http://www.bucksbrand.com/</td>\n",
              "      <td>2503270191</td>\n",
              "      <td>180</td>\n",
              "      <td>72</td>\n",
              "      <td>0</td>\n",
              "      <td>0</td>\n",
              "      <td>1</td>\n",
              "    </tr>\n",
              "    <tr>\n",
              "      <th>3</th>\n",
              "      <td>http://www.sheridantaylor.com/</td>\n",
              "      <td>3615659636</td>\n",
              "      <td>180</td>\n",
              "      <td>72</td>\n",
              "      <td>0</td>\n",
              "      <td>0</td>\n",
              "      <td>1</td>\n",
              "    </tr>\n",
              "    <tr>\n",
              "      <th>4</th>\n",
              "      <td>http://www.eze-porn.com/pussy-pounding/</td>\n",
              "      <td>204728603</td>\n",
              "      <td>180</td>\n",
              "      <td>72</td>\n",
              "      <td>0</td>\n",
              "      <td>0</td>\n",
              "      <td>1</td>\n",
              "    </tr>\n",
              "  </tbody>\n",
              "</table>\n",
              "</div>\n",
              "      <button class=\"colab-df-convert\" onclick=\"convertToInteractive('df-da3ae3d1-3415-48b7-9f08-6450fd098916')\"\n",
              "              title=\"Convert this dataframe to an interactive table.\"\n",
              "              style=\"display:none;\">\n",
              "        \n",
              "  <svg xmlns=\"http://www.w3.org/2000/svg\" height=\"24px\"viewBox=\"0 0 24 24\"\n",
              "       width=\"24px\">\n",
              "    <path d=\"M0 0h24v24H0V0z\" fill=\"none\"/>\n",
              "    <path d=\"M18.56 5.44l.94 2.06.94-2.06 2.06-.94-2.06-.94-.94-2.06-.94 2.06-2.06.94zm-11 1L8.5 8.5l.94-2.06 2.06-.94-2.06-.94L8.5 2.5l-.94 2.06-2.06.94zm10 10l.94 2.06.94-2.06 2.06-.94-2.06-.94-.94-2.06-.94 2.06-2.06.94z\"/><path d=\"M17.41 7.96l-1.37-1.37c-.4-.4-.92-.59-1.43-.59-.52 0-1.04.2-1.43.59L10.3 9.45l-7.72 7.72c-.78.78-.78 2.05 0 2.83L4 21.41c.39.39.9.59 1.41.59.51 0 1.02-.2 1.41-.59l7.78-7.78 2.81-2.81c.8-.78.8-2.07 0-2.86zM5.41 20L4 18.59l7.72-7.72 1.47 1.35L5.41 20z\"/>\n",
              "  </svg>\n",
              "      </button>\n",
              "      \n",
              "  <style>\n",
              "    .colab-df-container {\n",
              "      display:flex;\n",
              "      flex-wrap:wrap;\n",
              "      gap: 12px;\n",
              "    }\n",
              "\n",
              "    .colab-df-convert {\n",
              "      background-color: #E8F0FE;\n",
              "      border: none;\n",
              "      border-radius: 50%;\n",
              "      cursor: pointer;\n",
              "      display: none;\n",
              "      fill: #1967D2;\n",
              "      height: 32px;\n",
              "      padding: 0 0 0 0;\n",
              "      width: 32px;\n",
              "    }\n",
              "\n",
              "    .colab-df-convert:hover {\n",
              "      background-color: #E2EBFA;\n",
              "      box-shadow: 0px 1px 2px rgba(60, 64, 67, 0.3), 0px 1px 3px 1px rgba(60, 64, 67, 0.15);\n",
              "      fill: #174EA6;\n",
              "    }\n",
              "\n",
              "    [theme=dark] .colab-df-convert {\n",
              "      background-color: #3B4455;\n",
              "      fill: #D2E3FC;\n",
              "    }\n",
              "\n",
              "    [theme=dark] .colab-df-convert:hover {\n",
              "      background-color: #434B5C;\n",
              "      box-shadow: 0px 1px 3px 1px rgba(0, 0, 0, 0.15);\n",
              "      filter: drop-shadow(0px 1px 2px rgba(0, 0, 0, 0.3));\n",
              "      fill: #FFFFFF;\n",
              "    }\n",
              "  </style>\n",
              "\n",
              "      <script>\n",
              "        const buttonEl =\n",
              "          document.querySelector('#df-da3ae3d1-3415-48b7-9f08-6450fd098916 button.colab-df-convert');\n",
              "        buttonEl.style.display =\n",
              "          google.colab.kernel.accessAllowed ? 'block' : 'none';\n",
              "\n",
              "        async function convertToInteractive(key) {\n",
              "          const element = document.querySelector('#df-da3ae3d1-3415-48b7-9f08-6450fd098916');\n",
              "          const dataTable =\n",
              "            await google.colab.kernel.invokeFunction('convertToInteractive',\n",
              "                                                     [key], {});\n",
              "          if (!dataTable) return;\n",
              "\n",
              "          const docLinkHtml = 'Like what you see? Visit the ' +\n",
              "            '<a target=\"_blank\" href=https://colab.research.google.com/notebooks/data_table.ipynb>data table notebook</a>'\n",
              "            + ' to learn more about interactive tables.';\n",
              "          element.innerHTML = '';\n",
              "          dataTable['output_type'] = 'display_data';\n",
              "          await google.colab.output.renderOutput(dataTable, element);\n",
              "          const docLink = document.createElement('div');\n",
              "          docLink.innerHTML = docLinkHtml;\n",
              "          element.appendChild(docLink);\n",
              "        }\n",
              "      </script>\n",
              "    </div>\n",
              "  </div>\n",
              "  "
            ]
          },
          "metadata": {},
          "execution_count": 117
        }
      ]
    },
    {
      "cell_type": "code",
      "source": [
        "data['url'] = data['url'].replace('www.', '', regex=True)"
      ],
      "metadata": {
        "id": "XfkP7oyu9Hxb"
      },
      "execution_count": null,
      "outputs": []
    },
    {
      "cell_type": "code",
      "source": [
        "data.head()"
      ],
      "metadata": {
        "id": "4Bc3z2BGHHkc",
        "colab": {
          "base_uri": "https://localhost:8080/",
          "height": 206
        },
        "outputId": "0ae32118-eb37-4091-f997-8e9d4a05564f"
      },
      "execution_count": null,
      "outputs": [
        {
          "output_type": "execute_result",
          "data": {
            "text/plain": [
              "                                   url      ip_add  geo_loc  tld  who_is  \\\n",
              "0                    http://baycu.com/   431640155      179   72       1   \n",
              "1              http://massagefree.com/  3329188944      180   72       0   \n",
              "2               http://bucksbrand.com/  2503270191      180   72       0   \n",
              "3           http://sheridantaylor.com/  3615659636      180   72       0   \n",
              "4  http://eze-porn.com/pussy-pounding/   204728603      180   72       0   \n",
              "\n",
              "   https  label  \n",
              "0      0      0  \n",
              "1      0      1  \n",
              "2      0      1  \n",
              "3      0      1  \n",
              "4      0      1  "
            ],
            "text/html": [
              "\n",
              "  <div id=\"df-a5f0d644-bfb5-4d3a-8f83-8a46e3eac7e3\">\n",
              "    <div class=\"colab-df-container\">\n",
              "      <div>\n",
              "<style scoped>\n",
              "    .dataframe tbody tr th:only-of-type {\n",
              "        vertical-align: middle;\n",
              "    }\n",
              "\n",
              "    .dataframe tbody tr th {\n",
              "        vertical-align: top;\n",
              "    }\n",
              "\n",
              "    .dataframe thead th {\n",
              "        text-align: right;\n",
              "    }\n",
              "</style>\n",
              "<table border=\"1\" class=\"dataframe\">\n",
              "  <thead>\n",
              "    <tr style=\"text-align: right;\">\n",
              "      <th></th>\n",
              "      <th>url</th>\n",
              "      <th>ip_add</th>\n",
              "      <th>geo_loc</th>\n",
              "      <th>tld</th>\n",
              "      <th>who_is</th>\n",
              "      <th>https</th>\n",
              "      <th>label</th>\n",
              "    </tr>\n",
              "  </thead>\n",
              "  <tbody>\n",
              "    <tr>\n",
              "      <th>0</th>\n",
              "      <td>http://baycu.com/</td>\n",
              "      <td>431640155</td>\n",
              "      <td>179</td>\n",
              "      <td>72</td>\n",
              "      <td>1</td>\n",
              "      <td>0</td>\n",
              "      <td>0</td>\n",
              "    </tr>\n",
              "    <tr>\n",
              "      <th>1</th>\n",
              "      <td>http://massagefree.com/</td>\n",
              "      <td>3329188944</td>\n",
              "      <td>180</td>\n",
              "      <td>72</td>\n",
              "      <td>0</td>\n",
              "      <td>0</td>\n",
              "      <td>1</td>\n",
              "    </tr>\n",
              "    <tr>\n",
              "      <th>2</th>\n",
              "      <td>http://bucksbrand.com/</td>\n",
              "      <td>2503270191</td>\n",
              "      <td>180</td>\n",
              "      <td>72</td>\n",
              "      <td>0</td>\n",
              "      <td>0</td>\n",
              "      <td>1</td>\n",
              "    </tr>\n",
              "    <tr>\n",
              "      <th>3</th>\n",
              "      <td>http://sheridantaylor.com/</td>\n",
              "      <td>3615659636</td>\n",
              "      <td>180</td>\n",
              "      <td>72</td>\n",
              "      <td>0</td>\n",
              "      <td>0</td>\n",
              "      <td>1</td>\n",
              "    </tr>\n",
              "    <tr>\n",
              "      <th>4</th>\n",
              "      <td>http://eze-porn.com/pussy-pounding/</td>\n",
              "      <td>204728603</td>\n",
              "      <td>180</td>\n",
              "      <td>72</td>\n",
              "      <td>0</td>\n",
              "      <td>0</td>\n",
              "      <td>1</td>\n",
              "    </tr>\n",
              "  </tbody>\n",
              "</table>\n",
              "</div>\n",
              "      <button class=\"colab-df-convert\" onclick=\"convertToInteractive('df-a5f0d644-bfb5-4d3a-8f83-8a46e3eac7e3')\"\n",
              "              title=\"Convert this dataframe to an interactive table.\"\n",
              "              style=\"display:none;\">\n",
              "        \n",
              "  <svg xmlns=\"http://www.w3.org/2000/svg\" height=\"24px\"viewBox=\"0 0 24 24\"\n",
              "       width=\"24px\">\n",
              "    <path d=\"M0 0h24v24H0V0z\" fill=\"none\"/>\n",
              "    <path d=\"M18.56 5.44l.94 2.06.94-2.06 2.06-.94-2.06-.94-.94-2.06-.94 2.06-2.06.94zm-11 1L8.5 8.5l.94-2.06 2.06-.94-2.06-.94L8.5 2.5l-.94 2.06-2.06.94zm10 10l.94 2.06.94-2.06 2.06-.94-2.06-.94-.94-2.06-.94 2.06-2.06.94z\"/><path d=\"M17.41 7.96l-1.37-1.37c-.4-.4-.92-.59-1.43-.59-.52 0-1.04.2-1.43.59L10.3 9.45l-7.72 7.72c-.78.78-.78 2.05 0 2.83L4 21.41c.39.39.9.59 1.41.59.51 0 1.02-.2 1.41-.59l7.78-7.78 2.81-2.81c.8-.78.8-2.07 0-2.86zM5.41 20L4 18.59l7.72-7.72 1.47 1.35L5.41 20z\"/>\n",
              "  </svg>\n",
              "      </button>\n",
              "      \n",
              "  <style>\n",
              "    .colab-df-container {\n",
              "      display:flex;\n",
              "      flex-wrap:wrap;\n",
              "      gap: 12px;\n",
              "    }\n",
              "\n",
              "    .colab-df-convert {\n",
              "      background-color: #E8F0FE;\n",
              "      border: none;\n",
              "      border-radius: 50%;\n",
              "      cursor: pointer;\n",
              "      display: none;\n",
              "      fill: #1967D2;\n",
              "      height: 32px;\n",
              "      padding: 0 0 0 0;\n",
              "      width: 32px;\n",
              "    }\n",
              "\n",
              "    .colab-df-convert:hover {\n",
              "      background-color: #E2EBFA;\n",
              "      box-shadow: 0px 1px 2px rgba(60, 64, 67, 0.3), 0px 1px 3px 1px rgba(60, 64, 67, 0.15);\n",
              "      fill: #174EA6;\n",
              "    }\n",
              "\n",
              "    [theme=dark] .colab-df-convert {\n",
              "      background-color: #3B4455;\n",
              "      fill: #D2E3FC;\n",
              "    }\n",
              "\n",
              "    [theme=dark] .colab-df-convert:hover {\n",
              "      background-color: #434B5C;\n",
              "      box-shadow: 0px 1px 3px 1px rgba(0, 0, 0, 0.15);\n",
              "      filter: drop-shadow(0px 1px 2px rgba(0, 0, 0, 0.3));\n",
              "      fill: #FFFFFF;\n",
              "    }\n",
              "  </style>\n",
              "\n",
              "      <script>\n",
              "        const buttonEl =\n",
              "          document.querySelector('#df-a5f0d644-bfb5-4d3a-8f83-8a46e3eac7e3 button.colab-df-convert');\n",
              "        buttonEl.style.display =\n",
              "          google.colab.kernel.accessAllowed ? 'block' : 'none';\n",
              "\n",
              "        async function convertToInteractive(key) {\n",
              "          const element = document.querySelector('#df-a5f0d644-bfb5-4d3a-8f83-8a46e3eac7e3');\n",
              "          const dataTable =\n",
              "            await google.colab.kernel.invokeFunction('convertToInteractive',\n",
              "                                                     [key], {});\n",
              "          if (!dataTable) return;\n",
              "\n",
              "          const docLinkHtml = 'Like what you see? Visit the ' +\n",
              "            '<a target=\"_blank\" href=https://colab.research.google.com/notebooks/data_table.ipynb>data table notebook</a>'\n",
              "            + ' to learn more about interactive tables.';\n",
              "          element.innerHTML = '';\n",
              "          dataTable['output_type'] = 'display_data';\n",
              "          await google.colab.output.renderOutput(dataTable, element);\n",
              "          const docLink = document.createElement('div');\n",
              "          docLink.innerHTML = docLinkHtml;\n",
              "          element.appendChild(docLink);\n",
              "        }\n",
              "      </script>\n",
              "    </div>\n",
              "  </div>\n",
              "  "
            ]
          },
          "metadata": {},
          "execution_count": 119
        }
      ]
    },
    {
      "cell_type": "code",
      "source": [
        "feature = ['@','?','-','=','.','#','%','+','$','*','//']\n",
        "for a in feature:\n",
        "    data[a] = data['url'].apply(lambda i: i.count(a))"
      ],
      "metadata": {
        "id": "BDYewmG_9ect"
      },
      "execution_count": null,
      "outputs": []
    },
    {
      "cell_type": "code",
      "source": [
        "def digit_count(url):\n",
        "    digits = 0\n",
        "    for i in url:\n",
        "        if i.isnumeric():\n",
        "            digits = digits + 1\n",
        "    return digits"
      ],
      "metadata": {
        "id": "G0IEC7v59wj9"
      },
      "execution_count": null,
      "outputs": []
    },
    {
      "cell_type": "code",
      "source": [
        "data['digits']= data['url'].apply(lambda i: digit_count(i))"
      ],
      "metadata": {
        "id": "eMYv4ltZ90Di"
      },
      "execution_count": null,
      "outputs": []
    },
    {
      "cell_type": "code",
      "source": [
        "def letter_count(url):\n",
        "    letters = 0\n",
        "    for i in url:\n",
        "        if i.isalpha():\n",
        "            letters = letters + 1\n",
        "    return letters"
      ],
      "metadata": {
        "id": "lcFS0BKj91zA"
      },
      "execution_count": null,
      "outputs": []
    },
    {
      "cell_type": "code",
      "source": [
        "data['letters']= data['url'].apply(lambda i: letter_count(i))"
      ],
      "metadata": {
        "id": "U7tJ6JnF93Er"
      },
      "execution_count": null,
      "outputs": []
    },
    {
      "cell_type": "code",
      "source": [
        "import re"
      ],
      "metadata": {
        "id": "B8UZj6rPWRHH"
      },
      "execution_count": null,
      "outputs": []
    },
    {
      "cell_type": "code",
      "source": [
        "def Shortining_Service(url):\n",
        "    match = re.search('bit\\.ly|goo\\.gl|shorte\\.st|go2l\\.ink|x\\.co|ow\\.ly|t\\.co|tinyurl|tr\\.im|is\\.gd|cli\\.gs|'\n",
        "                      'yfrog\\.com|migre\\.me|ff\\.im|tiny\\.cc|url4\\.eu|twit\\.ac|su\\.pr|twurl\\.nl|snipurl\\.com|'\n",
        "                      'short\\.to|BudURL\\.com|ping\\.fm|post\\.ly|Just\\.as|bkite\\.com|snipr\\.com|fic\\.kr|loopt\\.us|'\n",
        "                      'doiop\\.com|short\\.ie|kl\\.am|wp\\.me|rubyurl\\.com|om\\.ly|to\\.ly|bit\\.do|t\\.co|lnkd\\.in|'\n",
        "                      'db\\.tt|qr\\.ae|adf\\.ly|goo\\.gl|bitly\\.com|cur\\.lv|tinyurl\\.com|ow\\.ly|bit\\.ly|ity\\.im|'\n",
        "                      'q\\.gs|is\\.gd|po\\.st|bc\\.vc|twitthis\\.com|u\\.to|j\\.mp|buzurl\\.com|cutt\\.us|u\\.bb|yourls\\.org|'\n",
        "                      'x\\.co|prettylinkpro\\.com|scrnch\\.me|filoops\\.info|vzturl\\.com|qr\\.net|1url\\.com|tweez\\.me|v\\.gd|'\n",
        "                      'tr\\.im|link\\.zip\\.net',\n",
        "                      url)\n",
        "    if match:\n",
        "        return 1\n",
        "    else:\n",
        "        return 0"
      ],
      "metadata": {
        "id": "h0ZUN8BY95B0"
      },
      "execution_count": null,
      "outputs": []
    },
    {
      "cell_type": "code",
      "source": [
        "data['shortings'] = data['url'].apply(lambda x: Shortining_Service(x))"
      ],
      "metadata": {
        "id": "ca7KieDB97c5"
      },
      "execution_count": null,
      "outputs": []
    },
    {
      "cell_type": "code",
      "source": [
        "plt.figure(figsize=(15, 15))\n",
        "sns.heatmap(data.corr(), linewidths=.5)"
      ],
      "metadata": {
        "id": "rFI7mhzV-C0U",
        "colab": {
          "base_uri": "https://localhost:8080/",
          "height": 1000
        },
        "outputId": "2db1481d-4e2c-4e93-dfae-766e82c7869b"
      },
      "execution_count": null,
      "outputs": [
        {
          "output_type": "stream",
          "name": "stderr",
          "text": [
            "<ipython-input-128-d14f9601ff3f>:2: FutureWarning: The default value of numeric_only in DataFrame.corr is deprecated. In a future version, it will default to False. Select only valid columns or specify the value of numeric_only to silence this warning.\n",
            "  sns.heatmap(data.corr(), linewidths=.5)\n"
          ]
        },
        {
          "output_type": "execute_result",
          "data": {
            "text/plain": [
              "<Axes: >"
            ]
          },
          "metadata": {},
          "execution_count": 128
        },
        {
          "output_type": "display_data",
          "data": {
            "text/plain": [
              "<Figure size 1500x1500 with 2 Axes>"
            ],
            "image/png": "[encoded data removed]"
          },
          "metadata": {}
        }
      ]
    },
    {
      "cell_type": "code",
      "source": [
        "data.head()"
      ],
      "metadata": {
        "id": "qkmntAEfwzPi",
        "colab": {
          "base_uri": "https://localhost:8080/",
          "height": 297
        },
        "outputId": "108bab38-4880-47a7-f29c-fd21e0d641c9"
      },
      "execution_count": null,
      "outputs": [
        {
          "output_type": "execute_result",
          "data": {
            "text/plain": [
              "                                   url      ip_add  geo_loc  tld  who_is  \\\n",
              "0                    http://baycu.com/   431640155      179   72       1   \n",
              "1              http://massagefree.com/  3329188944      180   72       0   \n",
              "2               http://bucksbrand.com/  2503270191      180   72       0   \n",
              "3           http://sheridantaylor.com/  3615659636      180   72       0   \n",
              "4  http://eze-porn.com/pussy-pounding/   204728603      180   72       0   \n",
              "\n",
              "   https  label  @  ?  -  ...  .  #  %  +  $  *  //  digits  letters  \\\n",
              "0      0      0  0  0  0  ...  1  0  0  0  0  0   1       0       12   \n",
              "1      0      1  0  0  0  ...  1  0  0  0  0  0   1       0       18   \n",
              "2      0      1  0  0  0  ...  1  0  0  0  0  0   1       0       17   \n",
              "3      0      1  0  0  0  ...  1  0  0  0  0  0   1       0       21   \n",
              "4      0      1  0  0  2  ...  1  0  0  0  0  0   1       0       27   \n",
              "\n",
              "   shortings  \n",
              "0          0  \n",
              "1          0  \n",
              "2          0  \n",
              "3          0  \n",
              "4          0  \n",
              "\n",
              "[5 rows x 21 columns]"
            ],
            "text/html": [
              "\n",
              "  <div id=\"df-ac29c651-3072-474a-ac52-06ce94a21f6f\">\n",
              "    <div class=\"colab-df-container\">\n",
              "      <div>\n",
              "<style scoped>\n",
              "    .dataframe tbody tr th:only-of-type {\n",
              "        vertical-align: middle;\n",
              "    }\n",
              "\n",
              "    .dataframe tbody tr th {\n",
              "        vertical-align: top;\n",
              "    }\n",
              "\n",
              "    .dataframe thead th {\n",
              "        text-align: right;\n",
              "    }\n",
              "</style>\n",
              "<table border=\"1\" class=\"dataframe\">\n",
              "  <thead>\n",
              "    <tr style=\"text-align: right;\">\n",
              "      <th></th>\n",
              "      <th>url</th>\n",
              "      <th>ip_add</th>\n",
              "      <th>geo_loc</th>\n",
              "      <th>tld</th>\n",
              "      <th>who_is</th>\n",
              "      <th>https</th>\n",
              "      <th>label</th>\n",
              "      <th>@</th>\n",
              "      <th>?</th>\n",
              "      <th>-</th>\n",
              "      <th>...</th>\n",
              "      <th>.</th>\n",
              "      <th>#</th>\n",
              "      <th>%</th>\n",
              "      <th>+</th>\n",
              "      <th>$</th>\n",
              "      <th>*</th>\n",
              "      <th>//</th>\n",
              "      <th>digits</th>\n",
              "      <th>letters</th>\n",
              "      <th>shortings</th>\n",
              "    </tr>\n",
              "  </thead>\n",
              "  <tbody>\n",
              "    <tr>\n",
              "      <th>0</th>\n",
              "      <td>http://baycu.com/</td>\n",
              "      <td>431640155</td>\n",
              "      <td>179</td>\n",
              "      <td>72</td>\n",
              "      <td>1</td>\n",
              "      <td>0</td>\n",
              "      <td>0</td>\n",
              "      <td>0</td>\n",
              "      <td>0</td>\n",
              "      <td>0</td>\n",
              "      <td>...</td>\n",
              "      <td>1</td>\n",
              "      <td>0</td>\n",
              "      <td>0</td>\n",
              "      <td>0</td>\n",
              "      <td>0</td>\n",
              "      <td>0</td>\n",
              "      <td>1</td>\n",
              "      <td>0</td>\n",
              "      <td>12</td>\n",
              "      <td>0</td>\n",
              "    </tr>\n",
              "    <tr>\n",
              "      <th>1</th>\n",
              "      <td>http://massagefree.com/</td>\n",
              "      <td>3329188944</td>\n",
              "      <td>180</td>\n",
              "      <td>72</td>\n",
              "      <td>0</td>\n",
              "      <td>0</td>\n",
              "      <td>1</td>\n",
              "      <td>0</td>\n",
              "      <td>0</td>\n",
              "      <td>0</td>\n",
              "      <td>...</td>\n",
              "      <td>1</td>\n",
              "      <td>0</td>\n",
              "      <td>0</td>\n",
              "      <td>0</td>\n",
              "      <td>0</td>\n",
              "      <td>0</td>\n",
              "      <td>1</td>\n",
              "      <td>0</td>\n",
              "      <td>18</td>\n",
              "      <td>0</td>\n",
              "    </tr>\n",
              "    <tr>\n",
              "      <th>2</th>\n",
              "      <td>http://bucksbrand.com/</td>\n",
              "      <td>2503270191</td>\n",
              "      <td>180</td>\n",
              "      <td>72</td>\n",
              "      <td>0</td>\n",
              "      <td>0</td>\n",
              "      <td>1</td>\n",
              "      <td>0</td>\n",
              "      <td>0</td>\n",
              "      <td>0</td>\n",
              "      <td>...</td>\n",
              "      <td>1</td>\n",
              "      <td>0</td>\n",
              "      <td>0</td>\n",
              "      <td>0</td>\n",
              "      <td>0</td>\n",
              "      <td>0</td>\n",
              "      <td>1</td>\n",
              "      <td>0</td>\n",
              "      <td>17</td>\n",
              "      <td>0</td>\n",
              "    </tr>\n",
              "    <tr>\n",
              "      <th>3</th>\n",
              "      <td>http://sheridantaylor.com/</td>\n",
              "      <td>3615659636</td>\n",
              "      <td>180</td>\n",
              "      <td>72</td>\n",
              "      <td>0</td>\n",
              "      <td>0</td>\n",
              "      <td>1</td>\n",
              "      <td>0</td>\n",
              "      <td>0</td>\n",
              "      <td>0</td>\n",
              "      <td>...</td>\n",
              "      <td>1</td>\n",
              "      <td>0</td>\n",
              "      <td>0</td>\n",
              "      <td>0</td>\n",
              "      <td>0</td>\n",
              "      <td>0</td>\n",
              "      <td>1</td>\n",
              "      <td>0</td>\n",
              "      <td>21</td>\n",
              "      <td>0</td>\n",
              "    </tr>\n",
              "    <tr>\n",
              "      <th>4</th>\n",
              "      <td>http://eze-porn.com/pussy-pounding/</td>\n",
              "      <td>204728603</td>\n",
              "      <td>180</td>\n",
              "      <td>72</td>\n",
              "      <td>0</td>\n",
              "      <td>0</td>\n",
              "      <td>1</td>\n",
              "      <td>0</td>\n",
              "      <td>0</td>\n",
              "      <td>2</td>\n",
              "      <td>...</td>\n",
              "      <td>1</td>\n",
              "      <td>0</td>\n",
              "      <td>0</td>\n",
              "      <td>0</td>\n",
              "      <td>0</td>\n",
              "      <td>0</td>\n",
              "      <td>1</td>\n",
              "      <td>0</td>\n",
              "      <td>27</td>\n",
              "      <td>0</td>\n",
              "    </tr>\n",
              "  </tbody>\n",
              "</table>\n",
              "<p>5 rows × 21 columns</p>\n",
              "</div>\n",
              "      <button class=\"colab-df-convert\" onclick=\"convertToInteractive('df-ac29c651-3072-474a-ac52-06ce94a21f6f')\"\n",
              "              title=\"Convert this dataframe to an interactive table.\"\n",
              "              style=\"display:none;\">\n",
              "        \n",
              "  <svg xmlns=\"http://www.w3.org/2000/svg\" height=\"24px\"viewBox=\"0 0 24 24\"\n",
              "       width=\"24px\">\n",
              "    <path d=\"M0 0h24v24H0V0z\" fill=\"none\"/>\n",
              "    <path d=\"M18.56 5.44l.94 2.06.94-2.06 2.06-.94-2.06-.94-.94-2.06-.94 2.06-2.06.94zm-11 1L8.5 8.5l.94-2.06 2.06-.94-2.06-.94L8.5 2.5l-.94 2.06-2.06.94zm10 10l.94 2.06.94-2.06 2.06-.94-2.06-.94-.94-2.06-.94 2.06-2.06.94z\"/><path d=\"M17.41 7.96l-1.37-1.37c-.4-.4-.92-.59-1.43-.59-.52 0-1.04.2-1.43.59L10.3 9.45l-7.72 7.72c-.78.78-.78 2.05 0 2.83L4 21.41c.39.39.9.59 1.41.59.51 0 1.02-.2 1.41-.59l7.78-7.78 2.81-2.81c.8-.78.8-2.07 0-2.86zM5.41 20L4 18.59l7.72-7.72 1.47 1.35L5.41 20z\"/>\n",
              "  </svg>\n",
              "      </button>\n",
              "      \n",
              "  <style>\n",
              "    .colab-df-container {\n",
              "      display:flex;\n",
              "      flex-wrap:wrap;\n",
              "      gap: 12px;\n",
              "    }\n",
              "\n",
              "    .colab-df-convert {\n",
              "      background-color: #E8F0FE;\n",
              "      border: none;\n",
              "      border-radius: 50%;\n",
              "      cursor: pointer;\n",
              "      display: none;\n",
              "      fill: #1967D2;\n",
              "      height: 32px;\n",
              "      padding: 0 0 0 0;\n",
              "      width: 32px;\n",
              "    }\n",
              "\n",
              "    .colab-df-convert:hover {\n",
              "      background-color: #E2EBFA;\n",
              "      box-shadow: 0px 1px 2px rgba(60, 64, 67, 0.3), 0px 1px 3px 1px rgba(60, 64, 67, 0.15);\n",
              "      fill: #174EA6;\n",
              "    }\n",
              "\n",
              "    [theme=dark] .colab-df-convert {\n",
              "      background-color: #3B4455;\n",
              "      fill: #D2E3FC;\n",
              "    }\n",
              "\n",
              "    [theme=dark] .colab-df-convert:hover {\n",
              "      background-color: #434B5C;\n",
              "      box-shadow: 0px 1px 3px 1px rgba(0, 0, 0, 0.15);\n",
              "      filter: drop-shadow(0px 1px 2px rgba(0, 0, 0, 0.3));\n",
              "      fill: #FFFFFF;\n",
              "    }\n",
              "  </style>\n",
              "\n",
              "      <script>\n",
              "        const buttonEl =\n",
              "          document.querySelector('#df-ac29c651-3072-474a-ac52-06ce94a21f6f button.colab-df-convert');\n",
              "        buttonEl.style.display =\n",
              "          google.colab.kernel.accessAllowed ? 'block' : 'none';\n",
              "\n",
              "        async function convertToInteractive(key) {\n",
              "          const element = document.querySelector('#df-ac29c651-3072-474a-ac52-06ce94a21f6f');\n",
              "          const dataTable =\n",
              "            await google.colab.kernel.invokeFunction('convertToInteractive',\n",
              "                                                     [key], {});\n",
              "          if (!dataTable) return;\n",
              "\n",
              "          const docLinkHtml = 'Like what you see? Visit the ' +\n",
              "            '<a target=\"_blank\" href=https://colab.research.google.com/notebooks/data_table.ipynb>data table notebook</a>'\n",
              "            + ' to learn more about interactive tables.';\n",
              "          element.innerHTML = '';\n",
              "          dataTable['output_type'] = 'display_data';\n",
              "          await google.colab.output.renderOutput(dataTable, element);\n",
              "          const docLink = document.createElement('div');\n",
              "          docLink.innerHTML = docLinkHtml;\n",
              "          element.appendChild(docLink);\n",
              "        }\n",
              "      </script>\n",
              "    </div>\n",
              "  </div>\n",
              "  "
            ]
          },
          "metadata": {},
          "execution_count": 129
        }
      ]
    },
    {
      "cell_type": "code",
      "source": [
        "data = data.drop('url', axis=1)"
      ],
      "metadata": {
        "id": "mKyecApJtgdQ"
      },
      "execution_count": null,
      "outputs": []
    },
    {
      "cell_type": "code",
      "source": [
        "data.columns.tolist()"
      ],
      "metadata": {
        "id": "YCj0z4c4eewc"
      },
      "execution_count": null,
      "outputs": []
    },
    {
      "cell_type": "code",
      "source": [
        "data.to_csv('/content/drive/MyDrive/Colab Notebooks/SafeNetAI/Dataset/data_featured.csv', index=False)"
      ],
      "metadata": {
        "id": "c0uydARoCBYw"
      },
      "execution_count": null,
      "outputs": []
    },
    {
      "cell_type": "markdown",
      "source": [
        "## Select Best Model to Train"
      ],
      "metadata": {
        "id": "wUR_2hNuLBNd"
      }
    },
    {
      "cell_type": "code",
      "source": [
        "import os"
      ],
      "metadata": {
        "id": "mzV8ZLqGw8mo"
      },
      "execution_count": null,
      "outputs": []
    },
    {
      "cell_type": "code",
      "source": [
        "data = pd.read_csv('/content/drive/MyDrive/Colab Notebooks/SafeNetAI/Dataset/data_featured.csv')"
      ],
      "metadata": {
        "id": "80LMG50gWfVp"
      },
      "execution_count": null,
      "outputs": []
    },
    {
      "cell_type": "code",
      "source": [
        "from sklearn.model_selection import train_test_split"
      ],
      "metadata": {
        "id": "MfSmMOF1WtOl"
      },
      "execution_count": null,
      "outputs": []
    },
    {
      "cell_type": "code",
      "source": [
        "x = data.drop(['label'],axis=1)#,'type_code'\n",
        "y = data['label']"
      ],
      "metadata": {
        "id": "xY-ceKruXLcL"
      },
      "execution_count": null,
      "outputs": []
    },
    {
      "cell_type": "code",
      "source": [
        "X_train, X_test, y_train, y_test = train_test_split(x, y, test_size=0.2, random_state=2)"
      ],
      "metadata": {
        "id": "D8r8Gkq-DjbG"
      },
      "execution_count": null,
      "outputs": []
    },
    {
      "cell_type": "code",
      "source": [
        "from sklearn.tree import DecisionTreeClassifier\n",
        "from sklearn.ensemble import RandomForestClassifier\n",
        "from sklearn.metrics import confusion_matrix, classification_report, accuracy_score\n",
        "import pickle"
      ],
      "metadata": {
        "id": "RVwpU_LgXQ97"
      },
      "execution_count": null,
      "outputs": []
    },
    {
      "cell_type": "code",
      "source": [
        "models = [RandomForestClassifier]\n",
        "\n",
        "accuracy_test=[]\n",
        "for m in models:\n",
        "    model_name = m.__name__\n",
        "    print('#############################################')\n",
        "    print('######-Model =>\\033[07m {} \\033[0m'.format(m))\n",
        "    model_ = m()\n",
        "    model_.fit(X_train, y_train)\n",
        "    pred = model_.predict(X_test)\n",
        "    acc = accuracy_score(pred, y_test)\n",
        "    accuracy_test.append(acc)\n",
        "    print('Test Accuracy :\\033[32m \\033[01m {:.2f}% \\033[30m \\033[0m'.format(acc*100))\n",
        "    print('\\033[01m              Classification_report \\033[0m')\n",
        "    print(classification_report(y_test, pred))\n",
        "    print('\\033[01m             Confusion_matrix \\033[0m')\n",
        "    cf_matrix = confusion_matrix(y_test, pred)\n",
        "    plot_ = sns.heatmap(cf_matrix/np.sum(cf_matrix), annot=True,fmt= '0.2%')\n",
        "    plt.show()\n",
        "    print('\\033[31m###################- End -###################\\033[0m')\n",
        "\n",
        "    # Export the model to a file\n",
        "    directory = \"/content/drive/MyDrive/Colab Notebooks/SafeNetAI/\"\n",
        "    filename = os.path.join(directory, f'safenet_ai_model_{model_name}.pkl')\n",
        "    pickle.dump(model_, open(filename, 'wb'))"
      ],
      "metadata": {
        "id": "lh0mRqxkDjbG"
      },
      "execution_count": null,
      "outputs": []
    },
    {
      "cell_type": "code",
      "source": [
        "# Create a DataFrame with model names and accuracies\n",
        "output = pd.DataFrame({\"Model\": [m.__name__ for m in models], \"Accuracy\": accuracy_test})\n",
        "output.to_csv('/content/drive/MyDrive/Colab Notebooks/SafeNetAI/model_performance.csv', index=False)"
      ],
      "metadata": {
        "id": "KeZVU1A2wE5x"
      },
      "execution_count": null,
      "outputs": []
    },
    {
      "cell_type": "code",
      "source": [
        "# Find the model with the highest accuracy\n",
        "highest_accuracy_index = output['Accuracy'].argmax()\n",
        "highest_accuracy_model = output.loc[highest_accuracy_index, 'Model']\n",
        "\n",
        "print(\"Model with the highest accuracy:\", highest_accuracy_model)"
      ],
      "metadata": {
        "colab": {
          "base_uri": "https://localhost:8080/"
        },
        "id": "jF9RHu5fwUal",
        "outputId": "4349078a-bc03-4759-82df-d804adfaba9b"
      },
      "execution_count": null,
      "outputs": [
        {
          "output_type": "stream",
          "name": "stdout",
          "text": [
            "Model with the highest accuracy: RandomForestClassifier\n"
          ]
        }
      ]
    },
    {
      "cell_type": "markdown",
      "source": [
        "# Predict"
      ],
      "metadata": {
        "id": "vSYmY0w5Bl0z"
      }
    },
    {
      "cell_type": "code",
      "source": [
        "import socket\n",
        "import whois\n",
        "import pandas as pd\n",
        "from sklearn import preprocessing"
      ],
      "metadata": {
        "id": "LYWxGY9lh9FI"
      },
      "execution_count": null,
      "outputs": []
    },
    {
      "cell_type": "code",
      "source": [
        "model_data = pd.read_csv('/content/drive/MyDrive/Colab Notebooks/SafeNetAI/model_performance.csv')\n",
        "highest_accuracy_index = model_data['Accuracy'].argmax()\n",
        "highest_accuracy_model = model_data.loc[highest_accuracy_index, 'Model']"
      ],
      "metadata": {
        "id": "DE6rxPqvxevR"
      },
      "execution_count": null,
      "outputs": []
    },
    {
      "cell_type": "code",
      "source": [
        "def get_ip_address(domain):\n",
        "    try:\n",
        "        ip = socket.gethostbyname(domain)\n",
        "        # Convert IP address to numerical representation\n",
        "        ip = sum(int(digit) * (256 ** i) for i, digit in enumerate(ip.split('.')[::-1]))\n",
        "        return ip\n",
        "    except socket.gaierror:\n",
        "        return None"
      ],
      "metadata": {
        "id": "m9V_MR6gh-h8"
      },
      "execution_count": null,
      "outputs": []
    },
    {
      "cell_type": "code",
      "source": [
        "import geocoder"
      ],
      "metadata": {
        "id": "I5GIHEL2mfMX"
      },
      "execution_count": null,
      "outputs": []
    },
    {
      "cell_type": "code",
      "source": [
        "def get_geo_location(domain):\n",
        "    try:\n",
        "        ip = socket.gethostbyname(domain)\n",
        "        g = geocoder.ip(ip)\n",
        "        if g and g.country:\n",
        "            country_name = g.country\n",
        "\n",
        "            label_encoder = preprocessing.LabelEncoder()\n",
        "            country_name = label_encoder.fit_transform([country_name])[0]\n",
        "            return country_name\n",
        "        else:\n",
        "            return None\n",
        "    except socket.gaierror:\n",
        "        return None\n"
      ],
      "metadata": {
        "id": "CUKZTuinh-ob"
      },
      "execution_count": null,
      "outputs": []
    },
    {
      "cell_type": "code",
      "source": [
        "def get_tld_from_domain(domain):\n",
        "  # Extracting top-level domain\n",
        "  tld = domain.split(\".\")[-1]\n",
        "  label_encoder = preprocessing.LabelEncoder()\n",
        "  tld = label_encoder.fit_transform([tld])[0]\n",
        "\n",
        "  return tld"
      ],
      "metadata": {
        "id": "bq3PsEEli4VI"
      },
      "execution_count": null,
      "outputs": []
    },
    {
      "cell_type": "code",
      "source": [
        "REQUIRED_WHOIS_FIELDS = ['domain_name', 'registrar', 'registrant_name', 'creation_date', 'expiration_date']\n",
        "\n",
        "def get_whois(domain):\n",
        "    try:\n",
        "        whois_data = whois.whois(domain)\n",
        "        return whois_data\n",
        "    except whois.parser.PywhoisError:\n",
        "        return None\n",
        "\n",
        "def is_whois_complete(whois_data):\n",
        "    if whois_data is None:\n",
        "        return 0\n",
        "\n",
        "    for field in REQUIRED_WHOIS_FIELDS:\n",
        "        if field not in whois_data:\n",
        "            return 0\n",
        "\n",
        "    return 1"
      ],
      "metadata": {
        "id": "5KGhO-MrjSBe"
      },
      "execution_count": null,
      "outputs": []
    },
    {
      "cell_type": "code",
      "source": [
        "# Finding https_status\n",
        "import http.client\n",
        "def check_https(url):\n",
        "  https_status= 0\n",
        "  \n",
        "  try:\n",
        "    conn = http.client.HTTPSConnection(url)\n",
        "    conn.request(\"HEAD\", \"/\")\n",
        "    res = conn.getresponse()\n",
        "    if res.status == 200 or res.status==301 or res.status==302:\n",
        "        https_status= 1   \n",
        "  \n",
        "  except Exception as msg:\n",
        "    https_status= 0\n",
        "    \n",
        "  finally:\n",
        "    return https_status"
      ],
      "metadata": {
        "id": "6mC-FDcPdhot"
      },
      "execution_count": null,
      "outputs": []
    },
    {
      "cell_type": "code",
      "source": [
        "def count_features(domain):\n",
        "  features = ['@', '?', '-', '=', '.', '#', '%', '+', '$', '*', '//']\n",
        "  data = []\n",
        "\n",
        "  for feature in features:\n",
        "    data.append(domain.count(feature))\n",
        "\n",
        "  return data"
      ],
      "metadata": {
        "id": "V7ddGJfygjnj"
      },
      "execution_count": null,
      "outputs": []
    },
    {
      "cell_type": "code",
      "source": [
        "def digit_count(url):\n",
        "    digits = 0\n",
        "    for i in url:\n",
        "        if i.isnumeric():\n",
        "            digits = digits + 1\n",
        "    return digits"
      ],
      "metadata": {
        "id": "HI_VuEp4dYWM"
      },
      "execution_count": null,
      "outputs": []
    },
    {
      "cell_type": "code",
      "source": [
        "def letter_count(url):\n",
        "    letters = 0\n",
        "    for i in url:\n",
        "        if i.isalpha():\n",
        "            letters = letters + 1\n",
        "    return letters"
      ],
      "metadata": {
        "id": "HtwvQQNLdby7"
      },
      "execution_count": null,
      "outputs": []
    },
    {
      "cell_type": "code",
      "source": [
        "def Shortining_Service(url):\n",
        "    match = re.search('bit\\.ly|goo\\.gl|shorte\\.st|go2l\\.ink|x\\.co|ow\\.ly|t\\.co|tinyurl|tr\\.im|is\\.gd|cli\\.gs|'\n",
        "                      'yfrog\\.com|migre\\.me|ff\\.im|tiny\\.cc|url4\\.eu|twit\\.ac|su\\.pr|twurl\\.nl|snipurl\\.com|'\n",
        "                      'short\\.to|BudURL\\.com|ping\\.fm|post\\.ly|Just\\.as|bkite\\.com|snipr\\.com|fic\\.kr|loopt\\.us|'\n",
        "                      'doiop\\.com|short\\.ie|kl\\.am|wp\\.me|rubyurl\\.com|om\\.ly|to\\.ly|bit\\.do|t\\.co|lnkd\\.in|'\n",
        "                      'db\\.tt|qr\\.ae|adf\\.ly|goo\\.gl|bitly\\.com|cur\\.lv|tinyurl\\.com|ow\\.ly|bit\\.ly|ity\\.im|'\n",
        "                      'q\\.gs|is\\.gd|po\\.st|bc\\.vc|twitthis\\.com|u\\.to|j\\.mp|buzurl\\.com|cutt\\.us|u\\.bb|yourls\\.org|'\n",
        "                      'x\\.co|prettylinkpro\\.com|scrnch\\.me|filoops\\.info|vzturl\\.com|qr\\.net|1url\\.com|tweez\\.me|v\\.gd|'\n",
        "                      'tr\\.im|link\\.zip\\.net',\n",
        "                      url)\n",
        "    if match:\n",
        "        return 1\n",
        "    else:\n",
        "        return 0"
      ],
      "metadata": {
        "id": "JIJ1VNt2dd9g"
      },
      "execution_count": null,
      "outputs": []
    },
    {
      "cell_type": "code",
      "source": [
        "import socket\n",
        "import requests\n",
        "import re\n",
        "import whois"
      ],
      "metadata": {
        "id": "eNZgHTgzfZZh"
      },
      "execution_count": null,
      "outputs": []
    },
    {
      "cell_type": "code",
      "source": [
        "def generate_info(domain):\n",
        "    # Extracting IP address\n",
        "    ip_add = get_ip_address(domain)\n",
        "\n",
        "    # Extracting geographical location\n",
        "    geo_loc = get_geo_location(domain)\n",
        "\n",
        "    tld = get_tld_from_domain(domain)\n",
        "\n",
        "    # Extracting WHOIS information\n",
        "    who_is = is_whois_complete(domain)\n",
        "\n",
        "    # Checking if HTTPS is supported\n",
        "    https = check_https(domain)\n",
        "\n",
        "    features = count_features(domain)\n",
        "    # Generating random digits and letters\n",
        "    digits = digit_count(domain)\n",
        "    letters = letter_count(domain)\n",
        "\n",
        "    sh_services = Shortining_Service(domain)\n",
        "\n",
        "    # Returning the generated information\n",
        "    return [ip_add, geo_loc, tld, who_is, https, features, digits, letters, sh_services]"
      ],
      "metadata": {
        "id": "Vd-_YSj-f9-a"
      },
      "execution_count": null,
      "outputs": []
    },
    {
      "cell_type": "code",
      "source": [
        "def predict_url_type(url):\n",
        "  data = generate_info(url)\n",
        "\n",
        "  flattened_data = []\n",
        "  for item in data:\n",
        "    if isinstance(item, list):\n",
        "      flattened_data.extend(item)\n",
        "    else:\n",
        "      flattened_data.append(item)\n",
        "\n",
        "  return flattened_data"
      ],
      "metadata": {
        "id": "8vwHz5amcL8j"
      },
      "execution_count": null,
      "outputs": []
    },
    {
      "cell_type": "code",
      "source": [
        "data_url = predict_url_type(\"google.com\")"
      ],
      "metadata": {
        "id": "W1xdnouFDjbH"
      },
      "execution_count": null,
      "outputs": []
    },
    {
      "cell_type": "code",
      "source": [
        "column_names = ['ip_add', 'geo_loc', 'tld', 'who_is', 'https', '@', '?', '-', '=', '.', '#', '%', '+', '$', '*', '//', 'digits', 'letters', 'shortings']\n",
        "\n",
        "df = pd.DataFrame([data_url], columns=column_names)"
      ],
      "metadata": {
        "id": "03KWovLAqKWr"
      },
      "execution_count": null,
      "outputs": []
    },
    {
      "cell_type": "code",
      "source": [
        "df"
      ],
      "metadata": {
        "colab": {
          "base_uri": "https://localhost:8080/",
          "height": 81
        },
        "id": "OsDQoh1cr0Mz",
        "outputId": "41d77e7e-54ce-4698-e8c8-23df8ea9361c"
      },
      "execution_count": null,
      "outputs": [
        {
          "output_type": "execute_result",
          "data": {
            "text/plain": [
              "       ip_add  geo_loc  tld  who_is  https  @  ?  -  =  .  #  %  +  $  *  //  \\\n",
              "0  2902277771        0    0       0      1  0  0  0  0  1  0  0  0  0  0   0   \n",
              "\n",
              "   digits  letters  shortings  \n",
              "0       0        9          0  "
            ],
            "text/html": [
              "\n",
              "  <div id=\"df-1a27b6bd-6903-4780-ab08-df2d5ecad28a\">\n",
              "    <div class=\"colab-df-container\">\n",
              "      <div>\n",
              "<style scoped>\n",
              "    .dataframe tbody tr th:only-of-type {\n",
              "        vertical-align: middle;\n",
              "    }\n",
              "\n",
              "    .dataframe tbody tr th {\n",
              "        vertical-align: top;\n",
              "    }\n",
              "\n",
              "    .dataframe thead th {\n",
              "        text-align: right;\n",
              "    }\n",
              "</style>\n",
              "<table border=\"1\" class=\"dataframe\">\n",
              "  <thead>\n",
              "    <tr style=\"text-align: right;\">\n",
              "      <th></th>\n",
              "      <th>ip_add</th>\n",
              "      <th>geo_loc</th>\n",
              "      <th>tld</th>\n",
              "      <th>who_is</th>\n",
              "      <th>https</th>\n",
              "      <th>@</th>\n",
              "      <th>?</th>\n",
              "      <th>-</th>\n",
              "      <th>=</th>\n",
              "      <th>.</th>\n",
              "      <th>#</th>\n",
              "      <th>%</th>\n",
              "      <th>+</th>\n",
              "      <th>$</th>\n",
              "      <th>*</th>\n",
              "      <th>//</th>\n",
              "      <th>digits</th>\n",
              "      <th>letters</th>\n",
              "      <th>shortings</th>\n",
              "    </tr>\n",
              "  </thead>\n",
              "  <tbody>\n",
              "    <tr>\n",
              "      <th>0</th>\n",
              "      <td>2902277771</td>\n",
              "      <td>0</td>\n",
              "      <td>0</td>\n",
              "      <td>0</td>\n",
              "      <td>1</td>\n",
              "      <td>0</td>\n",
              "      <td>0</td>\n",
              "      <td>0</td>\n",
              "      <td>0</td>\n",
              "      <td>1</td>\n",
              "      <td>0</td>\n",
              "      <td>0</td>\n",
              "      <td>0</td>\n",
              "      <td>0</td>\n",
              "      <td>0</td>\n",
              "      <td>0</td>\n",
              "      <td>0</td>\n",
              "      <td>9</td>\n",
              "      <td>0</td>\n",
              "    </tr>\n",
              "  </tbody>\n",
              "</table>\n",
              "</div>\n",
              "      <button class=\"colab-df-convert\" onclick=\"convertToInteractive('df-1a27b6bd-6903-4780-ab08-df2d5ecad28a')\"\n",
              "              title=\"Convert this dataframe to an interactive table.\"\n",
              "              style=\"display:none;\">\n",
              "        \n",
              "  <svg xmlns=\"http://www.w3.org/2000/svg\" height=\"24px\"viewBox=\"0 0 24 24\"\n",
              "       width=\"24px\">\n",
              "    <path d=\"M0 0h24v24H0V0z\" fill=\"none\"/>\n",
              "    <path d=\"M18.56 5.44l.94 2.06.94-2.06 2.06-.94-2.06-.94-.94-2.06-.94 2.06-2.06.94zm-11 1L8.5 8.5l.94-2.06 2.06-.94-2.06-.94L8.5 2.5l-.94 2.06-2.06.94zm10 10l.94 2.06.94-2.06 2.06-.94-2.06-.94-.94-2.06-.94 2.06-2.06.94z\"/><path d=\"M17.41 7.96l-1.37-1.37c-.4-.4-.92-.59-1.43-.59-.52 0-1.04.2-1.43.59L10.3 9.45l-7.72 7.72c-.78.78-.78 2.05 0 2.83L4 21.41c.39.39.9.59 1.41.59.51 0 1.02-.2 1.41-.59l7.78-7.78 2.81-2.81c.8-.78.8-2.07 0-2.86zM5.41 20L4 18.59l7.72-7.72 1.47 1.35L5.41 20z\"/>\n",
              "  </svg>\n",
              "      </button>\n",
              "      \n",
              "  <style>\n",
              "    .colab-df-container {\n",
              "      display:flex;\n",
              "      flex-wrap:wrap;\n",
              "      gap: 12px;\n",
              "    }\n",
              "\n",
              "    .colab-df-convert {\n",
              "      background-color: #E8F0FE;\n",
              "      border: none;\n",
              "      border-radius: 50%;\n",
              "      cursor: pointer;\n",
              "      display: none;\n",
              "      fill: #1967D2;\n",
              "      height: 32px;\n",
              "      padding: 0 0 0 0;\n",
              "      width: 32px;\n",
              "    }\n",
              "\n",
              "    .colab-df-convert:hover {\n",
              "      background-color: #E2EBFA;\n",
              "      box-shadow: 0px 1px 2px rgba(60, 64, 67, 0.3), 0px 1px 3px 1px rgba(60, 64, 67, 0.15);\n",
              "      fill: #174EA6;\n",
              "    }\n",
              "\n",
              "    [theme=dark] .colab-df-convert {\n",
              "      background-color: #3B4455;\n",
              "      fill: #D2E3FC;\n",
              "    }\n",
              "\n",
              "    [theme=dark] .colab-df-convert:hover {\n",
              "      background-color: #434B5C;\n",
              "      box-shadow: 0px 1px 3px 1px rgba(0, 0, 0, 0.15);\n",
              "      filter: drop-shadow(0px 1px 2px rgba(0, 0, 0, 0.3));\n",
              "      fill: #FFFFFF;\n",
              "    }\n",
              "  </style>\n",
              "\n",
              "      <script>\n",
              "        const buttonEl =\n",
              "          document.querySelector('#df-1a27b6bd-6903-4780-ab08-df2d5ecad28a button.colab-df-convert');\n",
              "        buttonEl.style.display =\n",
              "          google.colab.kernel.accessAllowed ? 'block' : 'none';\n",
              "\n",
              "        async function convertToInteractive(key) {\n",
              "          const element = document.querySelector('#df-1a27b6bd-6903-4780-ab08-df2d5ecad28a');\n",
              "          const dataTable =\n",
              "            await google.colab.kernel.invokeFunction('convertToInteractive',\n",
              "                                                     [key], {});\n",
              "          if (!dataTable) return;\n",
              "\n",
              "          const docLinkHtml = 'Like what you see? Visit the ' +\n",
              "            '<a target=\"_blank\" href=https://colab.research.google.com/notebooks/data_table.ipynb>data table notebook</a>'\n",
              "            + ' to learn more about interactive tables.';\n",
              "          element.innerHTML = '';\n",
              "          dataTable['output_type'] = 'display_data';\n",
              "          await google.colab.output.renderOutput(dataTable, element);\n",
              "          const docLink = document.createElement('div');\n",
              "          docLink.innerHTML = docLinkHtml;\n",
              "          element.appendChild(docLink);\n",
              "        }\n",
              "      </script>\n",
              "    </div>\n",
              "  </div>\n",
              "  "
            ]
          },
          "metadata": {},
          "execution_count": 245
        }
      ]
    },
    {
      "cell_type": "code",
      "source": [
        "file_location = f\"/content/drive/MyDrive/Colab Notebooks/SafeNetAI/safenet_ai_model_{highest_accuracy_model}.pkl\""
      ],
      "metadata": {
        "id": "asMJrvbDyj5G"
      },
      "execution_count": null,
      "outputs": []
    },
    {
      "cell_type": "code",
      "source": [
        "model_ = pickle.load(open(file_location, 'rb'))"
      ],
      "metadata": {
        "id": "0OV_FIWqyeY3"
      },
      "execution_count": null,
      "outputs": []
    },
    {
      "cell_type": "code",
      "source": [
        "print(model_.predict(df)[0])"
      ],
      "metadata": {
        "colab": {
          "base_uri": "https://localhost:8080/"
        },
        "id": "zMH9paBwkbQ6",
        "outputId": "946bc651-bb10-45e8-bb47-ee2c1f92b9be"
      },
      "execution_count": null,
      "outputs": [
        {
          "output_type": "stream",
          "name": "stdout",
          "text": [
            "0\n"
          ]
        }
      ]
    }
  ]
}